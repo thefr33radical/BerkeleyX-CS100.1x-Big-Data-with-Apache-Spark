{
  "nbformat": 4,
  "nbformat_minor": 0,
  "metadata": {
    "colab": {
      "name": "subsetsum.ipynb",
      "version": "0.3.2",
      "provenance": [],
      "include_colab_link": true
    },
    "kernelspec": {
      "name": "python3",
      "display_name": "Python 3"
    }
  },
  "cells": [
    {
      "cell_type": "markdown",
      "metadata": {
        "id": "view-in-github",
        "colab_type": "text"
      },
      "source": [
        "<a href=\"https://colab.research.google.com/github/thefr33radical/BerkeleyX-CS100.1x-Big-Data-with-Apache-Spark/blob/master/subsetsum.ipynb\" target=\"_parent\"><img src=\"https://colab.research.google.com/assets/colab-badge.svg\" alt=\"Open In Colab\"/></a>"
      ]
    },
    {
      "cell_type": "code",
      "metadata": {
        "id": "H2JFtBgkXA-N",
        "colab_type": "code",
        "colab": {}
      },
      "source": [
        "\n",
        "\n",
        "\n",
        "\n",
        "arr=[3,34,4,12,2]\n",
        "\n",
        "def issubsetsum(sum, arr,length):\n",
        "    print(sum, length)\n",
        "    if sum == 0:\n",
        "        return 1\n",
        "    if length == -1 and sum!=0:\n",
        "        return 0\n",
        "    \n",
        "    if arr[length] > sum:\n",
        "        return issubsetsum(sum,arr,length-1)\n",
        "        \n",
        "    return (issubsetsum(sum,arr,length-1) or issubsetsum(sum-arr[length],arr,length-1))\n",
        "    \n",
        "\n",
        "print(issubsetsum(9,arr,len(arr)-1))\n",
        "        \n",
        "    "
      ],
      "execution_count": 0,
      "outputs": []
    }
  ]
}