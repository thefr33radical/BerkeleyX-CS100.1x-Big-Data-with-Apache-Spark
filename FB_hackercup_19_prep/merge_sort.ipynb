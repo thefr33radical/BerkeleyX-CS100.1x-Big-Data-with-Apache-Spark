{
  "nbformat": 4,
  "nbformat_minor": 0,
  "metadata": {
    "colab": {
      "name": "merge_sort.ipynb",
      "version": "0.3.2",
      "provenance": [],
      "include_colab_link": true
    },
    "kernelspec": {
      "name": "python3",
      "display_name": "Python 3"
    }
  },
  "cells": [
    {
      "cell_type": "markdown",
      "metadata": {
        "id": "view-in-github",
        "colab_type": "text"
      },
      "source": [
        "<a href=\"https://colab.research.google.com/github/thefr33radical/BerkeleyX-CS100.1x-Big-Data-with-Apache-Spark/blob/master/FB_hackercup_19_prep/merge_sort.ipynb\" target=\"_parent\"><img src=\"https://colab.research.google.com/assets/colab-badge.svg\" alt=\"Open In Colab\"/></a>"
      ]
    },
    {
      "cell_type": "code",
      "metadata": {
        "id": "ZmGrX3SAC0K9",
        "colab_type": "code",
        "outputId": "4d1c3f1d-032a-45ba-fc39-aab721a7c6fa",
        "colab": {
          "base_uri": "https://localhost:8080/",
          "height": 34
        }
      },
      "source": [
        "\n",
        "def msort(arr,low,high):\n",
        "  if low <high:\n",
        "    \n",
        "    mid = int((low+high)/2)\n",
        "\n",
        "    msort(arr,low,mid)\n",
        "    msort(arr,mid+1,high)\n",
        "    merge(arr,low,mid,high)\n",
        "    \n",
        "    \n",
        "def merge(arr,low,mid,high):\n",
        "  start1 = int(low)\n",
        "  start2 = int(mid)+1\n",
        "  temp =[]\n",
        "  \n",
        "  while start1 <= mid and start2 <= high:\n",
        "    if arr[start1] < arr[start2]:\n",
        "      temp.append(arr[start1])\n",
        "      start1+=1\n",
        "      \n",
        "    else:\n",
        "      temp.append(arr[start2])\n",
        "      start2+=1\n",
        "  \n",
        "  while start1 <= mid:\n",
        "      temp.append(arr[start1])\n",
        "      start1+=1\n",
        "      \n",
        "  while start2 <= high:\n",
        "      temp.append(arr[start2])\n",
        "      start2+=1\n",
        "      \n",
        "  \n",
        "  k = 0\n",
        "  for i in range(low,high+1):\n",
        "    arr[i]=temp[k]\n",
        "    k+=1\n",
        "\n",
        "arr =[2,4,33,2,44,65,32,21,67,3]\n",
        "msort(arr,0,len(arr)-1)\n",
        "print(arr)\n"
      ],
      "execution_count": 0,
      "outputs": [
        {
          "output_type": "stream",
          "text": [
            "[2, 2, 3, 4, 21, 32, 33, 44, 65, 67] 0\n"
          ],
          "name": "stdout"
        }
      ]
    }
  ]
}