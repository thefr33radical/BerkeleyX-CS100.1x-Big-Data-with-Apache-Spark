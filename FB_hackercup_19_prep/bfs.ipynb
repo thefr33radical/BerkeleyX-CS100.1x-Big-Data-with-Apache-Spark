{
  "nbformat": 4,
  "nbformat_minor": 0,
  "metadata": {
    "colab": {
      "name": "bfs.ipynb",
      "version": "0.3.2",
      "provenance": [],
      "include_colab_link": true
    },
    "kernelspec": {
      "name": "python3",
      "display_name": "Python 3"
    }
  },
  "cells": [
    {
      "cell_type": "markdown",
      "metadata": {
        "id": "view-in-github",
        "colab_type": "text"
      },
      "source": [
        "<a href=\"https://colab.research.google.com/github/thefr33radical/BerkeleyX-CS100.1x-Big-Data-with-Apache-Spark/blob/master/FB_hackercup_19_prep/bfs.ipynb\" target=\"_parent\"><img src=\"https://colab.research.google.com/assets/colab-badge.svg\" alt=\"Open In Colab\"/></a>"
      ]
    },
    {
      "metadata": {
        "id": "PM23kEhZl_aX",
        "colab_type": "text"
      },
      "cell_type": "markdown",
      "source": [
        "###  Breadth First Search - Unweighted Graph Matrix\n",
        "*  T(C) = O(n2)\n",
        "\n",
        "* problems - https://stackoverflow.com/questions/240178/list-of-lists-changes-reflected-across-sublists-unexpectedly\n"
      ]
    },
    {
      "metadata": {
        "id": "fhCChplhl_lW",
        "colab_type": "code",
        "colab": {
          "base_uri": "https://localhost:8080/",
          "height": 136
        },
        "outputId": "5ce1099b-37dc-439b-9831-eb16997ca0f3"
      },
      "cell_type": "code",
      "source": [
        "def bfs(graph):\n",
        "  \"\"\"\n",
        "  Function to run a bfs on a unweighted graph represented in form of a matrix\n",
        "  \"\"\"\n",
        "  \n",
        "  q=[]\n",
        "  q.append(0)\n",
        "  visit = [0]*len(graph) \n",
        "  visit[0] = 1\n",
        "  \n",
        "  while q:\n",
        "    vertex = q.pop(len(q)-1)\n",
        "    print(vertex)\n",
        "       \n",
        "    if vertex is not None:\n",
        "      i = 0\n",
        "      while i< len(graph[0]):\n",
        "        if (visit[i]==0 and graph[vertex][i]==1):\n",
        "          visit[i]=1\n",
        "          q.append(i)\n",
        "\n",
        "        i+=1\n",
        "  #print(visited_matrix)\n",
        "\n",
        "graph = [[0,1,0,0,0,0,0],\n",
        "        [0,0,0,1,0,0,0],\n",
        "        [0,1,0,0,0,0,1],\n",
        "        [0,0,1,0,1,0,0],\n",
        "        [0,0,1,0,0,1,0],\n",
        "        [0,0,0,0,0,0,0],\n",
        "        [0,0,0,0,0,0,0]]\n",
        "\n",
        "visited_matrix = [[0]*len(graph)] *len(graph[0])\n",
        "\n",
        "bfs(graph)  \n",
        "\n",
        "### Practice\n",
        "\n",
        "def bfs2(graph):\n",
        "  visit=[0]*len(graph) \n",
        "  q =[]\n",
        "  q.append(0)\n",
        "  visit[0]=1\n",
        "  \n",
        "  \n",
        "  while q:\n",
        "    v = q.pop(len(q)-1)\n",
        "    if v is not None:\n",
        "      print(v)\n",
        "      \n",
        "      i=0\n",
        "      while i<len(graph[0]):\n",
        "        if visit[i] == 0 and graph[v][i]==1:\n",
        "          visit[i]=1\n",
        "          q.append(i)\n",
        "          \n",
        "        i+=1\n",
        "  print(visit)\n",
        "#bfs2(graph)\n",
        "  "
      ],
      "execution_count": 50,
      "outputs": [
        {
          "output_type": "stream",
          "text": [
            "0\n",
            "1\n",
            "3\n",
            "4\n",
            "5\n",
            "2\n",
            "6\n"
          ],
          "name": "stdout"
        }
      ]
    }
  ]
}