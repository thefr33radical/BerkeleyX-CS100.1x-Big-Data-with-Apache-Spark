{
  "nbformat": 4,
  "nbformat_minor": 0,
  "metadata": {
    "colab": {
      "name": "ford_fulkerson.ipynb",
      "version": "0.3.2",
      "provenance": [],
      "include_colab_link": true
    },
    "kernelspec": {
      "name": "python3",
      "display_name": "Python 3"
    }
  },
  "cells": [
    {
      "cell_type": "markdown",
      "metadata": {
        "id": "view-in-github",
        "colab_type": "text"
      },
      "source": [
        "<a href=\"https://colab.research.google.com/github/thefr33radical/BerkeleyX-CS100.1x-Big-Data-with-Apache-Spark/blob/master/FB_hackercup_19_prep/ford_fulkerson.ipynb\" target=\"_parent\"><img src=\"https://colab.research.google.com/assets/colab-badge.svg\" alt=\"Open In Colab\"/></a>"
      ]
    },
    {
      "metadata": {
        "id": "_tRZryZzlihb",
        "colab_type": "text"
      },
      "cell_type": "markdown",
      "source": [
        "### Ford-Fulkerson Algorithm\n",
        "\n",
        "* T(C) = O(E X Max_Flow) using DFS\n",
        "* T(C) = O(VE X E) using BFS -EdmondKarp\n"
      ]
    },
    {
      "metadata": {
        "id": "5AaY5hUPliwr",
        "colab_type": "code",
        "colab": {}
      },
      "cell_type": "code",
      "source": [
        "\n",
        "\n",
        "\n",
        "def CBFS(graph,r_graph,src,dest):\n",
        "  \"\"\"\n",
        "  Conditional BFS for Edmund Karp Algorithm\n",
        "  \"\"\"\n",
        "  q= []\n",
        "  path =[]\n",
        "  \n",
        "  visit = [0]*len(graph)\n",
        "  parent = [0]*len(graph)\n",
        "  \n",
        "  q.append(src)\n",
        "  visit[src]=1\n",
        "  \n",
        "  while q:\n",
        "    vertex = q.pop(len(q)-1)\n",
        "    if vertex is not None:\n",
        "      print(vertex)\n",
        "      path.append(vertex)\n",
        "      if vetex == dest:\n",
        "        return path\n",
        "      i = 0\n",
        "      while i < len(graph):\n",
        "        if visit[i]==0 and graph[vertex][i] and r_graph[vertex][i]>0:\n",
        "          visit[i]=1\n",
        "          q.appen(i)\n",
        "          parent[i]=vertex\n",
        "          \n",
        "  return None\n",
        "\n",
        "\n",
        "def subtract_min_flow(path,graph,r_graph,src,dest):\n",
        "  \"\"\"\n",
        "  \n",
        "  \"\"\"\n",
        "  "
      ],
      "execution_count": 0,
      "outputs": []
    }
  ]
}