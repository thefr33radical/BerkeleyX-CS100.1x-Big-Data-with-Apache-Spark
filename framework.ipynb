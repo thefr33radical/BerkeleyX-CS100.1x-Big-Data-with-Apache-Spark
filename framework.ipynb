{
  "nbformat": 4,
  "nbformat_minor": 0,
  "metadata": {
    "colab": {
      "name": "framework.ipynb",
      "version": "0.3.2",
      "provenance": [],
      "include_colab_link": true
    },
    "kernelspec": {
      "name": "python3",
      "display_name": "Python 3"
    }
  },
  "cells": [
    {
      "cell_type": "markdown",
      "metadata": {
        "id": "view-in-github",
        "colab_type": "text"
      },
      "source": [
        "<a href=\"https://colab.research.google.com/github/thefr33radical/BerkeleyX-CS100.1x-Big-Data-with-Apache-Spark/blob/master/framework.ipynb\" target=\"_parent\"><img src=\"https://colab.research.google.com/assets/colab-badge.svg\" alt=\"Open In Colab\"/></a>"
      ]
    },
    {
      "cell_type": "code",
      "metadata": {
        "id": "ToZt00lRAzk3",
        "colab_type": "code",
        "colab": {}
      },
      "source": [
        "from sklearn.decomposition import PCA\n",
        "from sklearn.preprocessing import StandardScaler\n",
        "from matplotlib import pyplot as plt\n",
        "\n",
        "\n",
        "class VIVLI(object):\n",
        "  \n",
        "  def load_data(self):\n",
        "    # encrypt/anonymize =? \n",
        "    pass\n",
        "    \n",
        "  def analyze(self):\n",
        "    # correlation matrix\n",
        "    # outliers, distributions etc\n",
        "    pass\n",
        "  \n",
        "  def preprocess(self):\n",
        "    # encrypt/anonymize =? \n",
        "    # standardization, normalization\n",
        "    # sampling : stratified, synthetic\n",
        "    \n",
        "    std=StandardScaler()\n",
        "    x_var = std.fit_transform(x_var)\n",
        "    \n",
        "    pass\n",
        "  \n",
        "  def feature_extract(self):\n",
        "    # pca, RFE\n",
        "    \n",
        "    pca=PCA().fit(x_var)\n",
        "    plt.figure()\n",
        "    plt.title(\"Feature Variance\")\n",
        "    plt.xlabel(\"Number of Components\")\n",
        "    plt.ylabel(\"Variance percentage\")\n",
        "    plt.plot(np.cumsum(pca.explained_variance_ratio_))\n",
        "    plt.show()\n",
        "    \n",
        "    \n",
        "    pass\n",
        "  \n",
        "  def train_models(self):\n",
        "    # bagging of SVM, LR, RF, Xgboost\n",
        "    # Xgboost\n",
        "    # Hyperparameter tuning\n",
        "    \n",
        "    pass\n",
        "  \n",
        "  def test_model(self):\n",
        "    # Result as array\n",
        "    pass\n",
        "  \n",
        "  def plots(self):\n",
        "    pass\n",
        "  \n",
        "if __name__==\"__main__\":\n",
        "  pass"
      ],
      "execution_count": 0,
      "outputs": []
    }
  ]
}