{
  "nbformat": 4,
  "nbformat_minor": 0,
  "metadata": {
    "colab": {
      "name": "lda",
      "version": "0.3.2",
      "provenance": [],
      "include_colab_link": true
    },
    "kernelspec": {
      "name": "python3",
      "display_name": "Python 3"
    }
  },
  "cells": [
    {
      "cell_type": "markdown",
      "metadata": {
        "id": "view-in-github",
        "colab_type": "text"
      },
      "source": [
        "<a href=\"https://colab.research.google.com/github/thefr33radical/BerkeleyX-CS100.1x-Big-Data-with-Apache-Spark/blob/master/lda.ipynb\" target=\"_parent\"><img src=\"https://colab.research.google.com/assets/colab-badge.svg\" alt=\"Open In Colab\"/></a>"
      ]
    },
    {
      "metadata": {
        "id": "rG_TBSJJ-QGU",
        "colab_type": "code",
        "colab": {
          "base_uri": "https://localhost:8080/",
          "height": 173
        },
        "outputId": "9b03e908-168e-42cf-9049-330361e19387"
      },
      "cell_type": "code",
      "source": [
        "\n",
        "import pandas as pd\n",
        "from sklearn.preprocessing import LabelEncoder\n",
        "from collections import Counter\n",
        "import numpy as np\n",
        "def data():\n",
        "\n",
        "\n",
        "  df = pd.io.parsers.read_csv(\n",
        "      filepath_or_buffer='https://archive.ics.uci.edu/ml/machine-learning-databases/iris/iris.data',sep=',',header=None)\n",
        "  #print(df.head())\n",
        "  x = df[[0,1,2,3]].values\n",
        "  y = df[[4]].values\n",
        "  #print(y)\n",
        "  enc = LabelEncoder()\n",
        "  label_encoder = enc.fit(y)\n",
        "  y = label_encoder.transform(y) \n",
        " # print(y)\n",
        "  return x,y\n",
        "\n",
        "  \n",
        "#computing mean vectors\n",
        "def computevector(x,y):\n",
        "    K = len(set(y))\n",
        "    print(type(x)) \n",
        "  \n",
        "    print(K)\n",
        "    data = pd.DataFrame()\n",
        "    temp = [[0]*len(x[0])]*K\n",
        "    print(temp)\n",
        "    lenclasses = np.array([])\n",
        "    \n",
        "    # Compute sum for each class \n",
        "    for i in range(len(x)):\n",
        "      \n",
        "      for k in set(y):\n",
        "        if y[i]==k:\n",
        "          temp[k]+=x[i]\n",
        "    \n",
        "    # Compute Means for each of the classes\n",
        "    Sum =Counter(y)\n",
        "    for i in range(len(temp)):\n",
        "      temp[i]/=Sum[i]\n",
        "      \n",
        "    return temp\n",
        "  \n",
        "  \n",
        "          \n",
        "    \n",
        "   \n",
        "          \n",
        "          \n",
        "  \n",
        "\n",
        "x,y = data()\n",
        "meanvector = computevector(x,y)\n",
        "\n"
      ],
      "execution_count": 45,
      "outputs": [
        {
          "output_type": "stream",
          "text": [
            "<class 'numpy.ndarray'>\n",
            "3\n",
            "[[0, 0, 0, 0], [0, 0, 0, 0], [0, 0, 0, 0]]\n",
            "[array([5.006, 3.418, 1.464, 0.244]), array([5.936, 2.77 , 4.26 , 1.326]), array([6.588, 2.974, 5.552, 2.026])]\n"
          ],
          "name": "stdout"
        },
        {
          "output_type": "stream",
          "text": [
            "/usr/local/lib/python3.6/dist-packages/sklearn/preprocessing/label.py:219: DataConversionWarning: A column-vector y was passed when a 1d array was expected. Please change the shape of y to (n_samples, ), for example using ravel().\n",
            "  y = column_or_1d(y, warn=True)\n",
            "/usr/local/lib/python3.6/dist-packages/sklearn/preprocessing/label.py:252: DataConversionWarning: A column-vector y was passed when a 1d array was expected. Please change the shape of y to (n_samples, ), for example using ravel().\n",
            "  y = column_or_1d(y, warn=True)\n"
          ],
          "name": "stderr"
        }
      ]
    }
  ]
}