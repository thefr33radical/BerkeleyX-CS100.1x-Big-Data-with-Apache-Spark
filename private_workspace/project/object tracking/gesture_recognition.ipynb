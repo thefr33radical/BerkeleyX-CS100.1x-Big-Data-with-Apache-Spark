{
  "nbformat": 4,
  "nbformat_minor": 0,
  "metadata": {
    "colab": {
      "name": "gesture_recognition.ipynb",
      "version": "0.3.2",
      "provenance": [],
      "include_colab_link": true
    },
    "kernelspec": {
      "name": "python3",
      "display_name": "Python 3"
    }
  },
  "cells": [
    {
      "cell_type": "markdown",
      "metadata": {
        "id": "view-in-github",
        "colab_type": "text"
      },
      "source": [
        "<a href=\"https://colab.research.google.com/github/thefr33radical/BerkeleyX-CS100.1x-Big-Data-with-Apache-Spark/blob/master/private_workspace/project/object%20tracking/gesture_recognition.ipynb\" target=\"_parent\"><img src=\"https://colab.research.google.com/assets/colab-badge.svg\" alt=\"Open In Colab\"/></a>"
      ]
    },
    {
      "metadata": {
        "id": "loM2F6ISdg-A",
        "colab_type": "text"
      },
      "cell_type": "markdown",
      "source": [
        "#Simple Hand  Gesture Recognition\n",
        "\n",
        "*  Problem statement\n",
        "* Segment the Hand region\n",
        "* Background Subtraction\n",
        "* Motion Detection and Thresholding\n",
        "* Contour Extraction\n",
        "* Implementation\n",
        "\n",
        "#### References\n",
        "\n",
        "* https://gogul09.github.io/software/hand-gesture-recognition-p1"
      ]
    },
    {
      "metadata": {
        "id": "CDOmB3edebeH",
        "colab_type": "code",
        "colab": {}
      },
      "cell_type": "code",
      "source": [
        ""
      ],
      "execution_count": 0,
      "outputs": []
    }
  ]
}